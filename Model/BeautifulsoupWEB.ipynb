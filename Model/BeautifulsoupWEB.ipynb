{
  "nbformat": 4,
  "nbformat_minor": 0,
  "metadata": {
    "colab": {
      "provenance": []
    },
    "kernelspec": {
      "name": "python3",
      "display_name": "Python 3"
    },
    "language_info": {
      "name": "python"
    }
  },
  "cells": [
    {
      "cell_type": "code",
      "execution_count": 2,
      "metadata": {
        "colab": {
          "base_uri": "https://localhost:8080/"
        },
        "id": "fWEDcYPqp8oh",
        "outputId": "05f388ef-3aa3-49af-fd6d-6bd54cab3846"
      },
      "outputs": [
        {
          "output_type": "stream",
          "name": "stdout",
          "text": [
            "Collecting beautifulsoup4==4.10.0\n",
            "  Downloading beautifulsoup4-4.10.0-py3-none-any.whl (97 kB)\n",
            "\u001b[?25l     \u001b[90m━━━━━━━━━━━━━━━━━━━━━━━━━━━━━━━━━━━━━━━━\u001b[0m \u001b[32m0.0/97.4 kB\u001b[0m \u001b[31m?\u001b[0m eta \u001b[36m-:--:--\u001b[0m\r\u001b[2K     \u001b[91m━━━━━━━━━━━━━━━━━━━━━━━━━━━━━━━━━━━━━\u001b[0m\u001b[91m╸\u001b[0m\u001b[90m━━\u001b[0m \u001b[32m92.2/97.4 kB\u001b[0m \u001b[31m2.7 MB/s\u001b[0m eta \u001b[36m0:00:01\u001b[0m\r\u001b[2K     \u001b[90m━━━━━━━━━━━━━━━━━━━━━━━━━━━━━━━━━━━━━━━━\u001b[0m \u001b[32m97.4/97.4 kB\u001b[0m \u001b[31m2.0 MB/s\u001b[0m eta \u001b[36m0:00:00\u001b[0m\n",
            "\u001b[?25hRequirement already satisfied: soupsieve>1.2 in /usr/local/lib/python3.10/dist-packages (from beautifulsoup4==4.10.0) (2.5)\n",
            "Installing collected packages: beautifulsoup4\n",
            "  Attempting uninstall: beautifulsoup4\n",
            "    Found existing installation: beautifulsoup4 4.11.2\n",
            "    Uninstalling beautifulsoup4-4.11.2:\n",
            "      Successfully uninstalled beautifulsoup4-4.11.2\n",
            "\u001b[31mERROR: pip's dependency resolver does not currently take into account all the packages that are installed. This behaviour is the source of the following dependency conflicts.\n",
            "yfinance 0.2.35 requires beautifulsoup4>=4.11.1, but you have beautifulsoup4 4.10.0 which is incompatible.\u001b[0m\u001b[31m\n",
            "\u001b[0mSuccessfully installed beautifulsoup4-4.10.0\n"
          ]
        }
      ],
      "source": [
        "pip install beautifulsoup4==4.10.0\n"
      ]
    },
    {
      "source": [
        "import requests\n",
        "from bs4 import BeautifulSoup\n",
        "import urllib.parse\n",
        "\n",
        "url = \"https://www.youtube.com/\"\n",
        "\n",
        "response = requests.get(url)\n",
        "\n",
        "def get_links(url):\n",
        "    \"\"\"Recursively follow links to index full site\"\"\"\n",
        "    soup = BeautifulSoup(requests.get(url).text, 'html.parser')\n",
        "    links = []\n",
        "    for link in soup.findAll('a'):\n",
        "        href = link.get('href')\n",
        "        if href.startswith('http'):\n",
        "            links.append(href)\n",
        "        else:\n",
        "           href = urllib.parse.urljoin(url, href)\n",
        "def get_links(url):\n",
        "    links = []\n",
        "    response = requests.get(url)\n",
        "    soup = BeautifulSoup(response.text, \"html.parser\")\n",
        "    for link in soup.find_all(\"a\"):\n",
        "        links.append(link.get(\"href\"))\n",
        "    return links\n",
        "\n",
        "\n",
        "links = list(set(get_links(\"https://www.nytimes.com/\")))\n",
        " # Remove Duplicates\n",
        "\n",
        "print(links)"
      ],
      "cell_type": "code",
      "metadata": {
        "colab": {
          "base_uri": "https://localhost:8080/"
        },
        "id": "oVCbtRWp07lU",
        "outputId": "d3919c52-f20e-4f0d-a931-0b08c602d72c"
      },
      "execution_count": 3,
      "outputs": [
        {
          "output_type": "stream",
          "name": "stdout",
          "text": [
            "['#after-dfp-ad-bottom', 'https://www.nytimes.com/section/well/eat', 'https://www.nytimes.com/by/bret-stephens', 'https://theathletic.com/newsletters/the-bounce', 'https://www.nytimes.com/column/matter-of-opinion', 'https://www.nytimes.com/live/2024/01/11/opinion/briefing', 'https://cooking.nytimes.com/topics/entertaining', 'https://www.nytimes.com/by/david-brooks', 'https://www.nytimes.com/by/gail-collins', 'https://www.nytimes.com/2024/01/16/business/china-birth-rate-2023.html', 'https://www.nytimes.com/games/wordle/index.html', 'https://www.nytimes.com/newsletters/upshot', 'https://www.nytimes.com/column/social-qs', 'https://www.nytimes.com/section/movies', 'https://www.nytimes.com/by/maureen-dowd', 'https://www.nytimes.com/section/arts', 'https://www.nytimes.com/section/opinion/technology', 'https://www.nytimes.com/section/world/americas', 'https://www.nytimes.com/column/book-review-podcast', 'https://www.nytimes.com/by/lydia-polgreen', 'https://cooking.nytimes.com/topics/our-best-chicken-recipes', 'https://theathletic.com/football/mls/', 'https://www.nytimes.com/newsletters/morning-briefing-europe', 'https://www.nytimes.com/column/the-hunt', 'https://www.nytimes.com/newsletters/open-thread-fashion', 'https://www.nytimes.com/by/michelle-goldberg', 'https://www.nytimes.com/wirecutter/electronics/', 'https://www.nytimes.com/wirecutter/reviews/best-air-purifier/', 'https://www.nytimes.com/newsletters/the-interpreter', 'https://www.nytimes.com/column/ask-well', 'https://www.nytimes.com/section/books', 'https://www.nytimes.com/section/opinion/politics', 'https://www.nytimes.com/wirecutter/reviews/best-pressure-washer/', 'https://www.nytimes.com/news-event/immigration-us', 'https://www.nytimes.com/2024/01/16/us/politics/biden-trump-opponent.html', 'https://www.nytimes.com/by/zeynep-tufekci', '#site-index', 'https://www.nytimes.com/2023/02/09/upshot/china-population-decline.html', 'https://www.nytimes.com/2024/01/17/world/asia/iran-pakistan-strike.html', '/sitemap/', 'https://www.nytimes.com/2024/01/17/opinion/standardized-tests.html', 'https://www.nytimes.com/section/climate', 'https://www.nytimes.com/section/well/live', 'https://www.nytimes.com/section/opinion/international-world', 'https://www.nytimes.com/2024/01/17/nyregion/judge-kaplan-trump-e-jean-carroll-trial.html', 'https://www.nytimes.com/section/opinion/business-economics', 'https://www.nytimes.com/section/business/dealbook', 'https://www.nytimes.com/games/connections', 'https://www.nytimes.com/wirecutter/sleep/', 'https://www.nytimes.com/2024/01/15/world/europe/greece-cycladic-islands-tourism.html', 'https://www.nytimes.com/section/magazine', 'https://theathletic.com/football/nwsl/', '/ca/', 'https://www.nytimes.com/section/theater', 'https://www.nytimes.com/2024/01/16/opinion/israel-hamas-war-genocide.html', 'https://www.nytimes.com/section/style', 'https://www.nytimes.com/section/your-money', 'https://cooking.nytimes.com/topics/vegan-recipes', 'https://www.nytimes.com/by/nicholas-kristof', 'https://www.nytimes.com/newsletters/read-like-the-wind', 'https://theathletic.com/golf/', 'https://www.nytimes.com/column/popcast-pop-music-podcast', 'https://www.nytimes.com/column/the-daily', 'https://www.nytimes.com/interactive/2023/us/politics/presidential-candidates-2024.html', 'https://www.nytimes.com/section/world', 'https://www.nytimes.com/newsletters/australia-letter', 'https://www.nytimes.com/international/', 'https://www.nytimes.com/2024/01/17/climate/texas-grid-renewables-gas-freeze.html', 'https://www.nytimes.com/wirecutter', 'https://www.nytimes.com/section/technology', 'https://www.nytimes.com/section/well/move', 'https://theathletic.com/college-football/', 'https://www.nytimes.com/column/the-ethicist', 'https://www.nytimes.com/2024/01/14/movies/critics-choice-awards-complete-winners-list.html', 'https://www.nytimes.com/2024/01/17/opinion/pain-treatment.html', 'https://www.nytimes.com/2024/01/17/us/supreme-court-chevron-case.html', '/', 'https://www.nytimes.com/section/fashion', 'https://theathletic.com/nfl/', 'https://www.nytimes.com/spotlight/critics-picks', 'https://help.nytimes.com/hc/en-us/articles/115014893428-Terms-of-service', 'https://www.nytimes.com/section/travel', 'https://www.nytimes.com/news-event/2024-election', 'https://www.nytimes.com/by/paul-krugman', 'https://www.nytimes.com/wirecutter/travel/', 'https://www.nytimes.com/section/opinion/environment', 'https://www.nytimes.com/column/california-today', 'https://www.nytimes.com/wirecutter/make-a-plan/moving/', 'https://www.nytimes.com/2024/01/17/climate/greenland-ice-sheet-melting.html', 'https://www.nytimes.com/section/world/europe', 'https://www.nytimes.com/2024/01/17/world/middleeast/iran-missiles-pakistan-iraq.html', '#after-dfp-ad-mid1', 'https://www.nytimes.com/by/ross-douthat', 'https://www.nytimes.com/spotlight/the-sunday-read', 'https://www.nytimes.com/puzzles/sudoku', 'https://www.nytimes.com/section/education', 'https://www.nytimes.com/2024/01/17/us/politics/atomic-bomb-secret-funding-congress.html', '#after-dfp-ad-top', '/privacy/manage-settings', 'https://www.nytimes.com/newsletters', 'https://www.nytimes.com/newsletters/gameplay', 'https://www.nytimes.com/newsletters/clean-everything', 'https://www.nytimes.com/spotlight/eric-adams-mayor-nyc', 'https://www.nytimes.com/by/pamela-paul', 'https://www.nytimes.com/news-event/ukraine-russia', 'https://www.nytimes.com/section/opinion/culture', 'https://www.nytimes.com/wirecutter/reviews/best-office-chair/', 'https://www.nytimes.com/topic/organization/us-supreme-court', 'https://www.nytimes.com/spotlight/books-to-read', 'https://www.nytimes.com/column/modern-love-podcast', 'https://theathletic.com/', 'https://www.nytimes.com/2024/01/16/us/politics/iowa-caucus-takeaways.html', 'https://www.nytimes.com/2024/01/16/opinion/ezra-klein-podcast-kristen-soltis-anderson.html', '#after-dfp-ad-mid2', 'https://www.nytimes.com/2024/01/16/opinion/putin-ukraine-war.html', 'https://www.nytimes.com/interactive/2023/08/18/us/politics/republican-candidates-2024-issues.html', 'https://www.nytimes.com/section/world/middleeast', '#after-dfp-ad-mid3', 'https://www.nytimes.com/interactive/2022/upshot/wordle-bot.html', 'https://help.nytimes.com/hc/en-us/articles/115014792127-Copyright-notice', 'https://www.nytimes.com/section/business', 'https://cooking.nytimes.com/topics/healthy-recipes', 'https://www.nytimes.com/section/nyregion', 'https://cooking.nytimes.com/topics/comfort-food', 'https://www.nytimes.com/2024/01/17/movies/oscar-nominations-predictions.html', 'https://www.nytimes.com/by/david-french', 'https://www.nytimes.com/2024/01/13/style/beverly-johnson-models-race-metoo-movement.html', 'https://www.nytimes.com/wirecutter/deals/', 'https://cooking.nytimes.com/68861692-nyt-cooking/638891-best-soup-stew-recipes', 'https://theathletic.com/football/premier-league/', 'https://www.nytimes.com/column/hard-fork', 'https://www.nytimes.com/privacy/cookie-policy#how-do-i-manage-trackers', 'https://www.nytco.com/', 'https://theathletic.com/nfl/schedule/', 'https://www.nytimes.com/by/carlos-lozada', 'https://www.nytimes.com/wirecutter/health-fitness/', 'https://www.nytimes.com/2024/01/16/opinion/voting-rights-constitution-28th-amendment.html', 'https://www.nytimes.com/section/opinion/health', 'https://www.nytimes.com/2024/01/07/movies/golden-globes-winners-list.html', 'https://www.nytimes.com/spotlight/wordle-review', 'https://www.nytimes.com/section/upshot', 'https://help.nytimes.com/hc/en-us/articles/115015727108-Accessibility', 'https://www.nytimes.com/spotlight/daily-crossword-column', 'https://www.nytimes.com/section/opinion/contributors', 'https://help.nytimes.com/hc/en-us/articles/115014893968-Terms-of-sale', 'https://www.nytimes.com/interactive/2024/01/04/movies/critics-oscar-nominees.html', 'https://theathletic.com/nhl/', 'https://www.nytimes.com/section/technology/personaltech', 'https://theathletic.com/formula-1/', 'https://www.nytimes.com/section/world/africa', 'https://www.nytimes.com/section/opinion/letters', 'https://www.nytimes.com/by/tressie-mcmillan-cottom', 'https://www.nytimes.com/newsletters/the-recommendation', 'https://www.nytimes.com/section/us', 'https://www.nytimes.com/wirecutter/appliances/', 'https://www.nytimes.com/2024/01/17/science/woolly-mammoth-tusk-research.html', 'https://www.nytimes.com/newsletters/audio', 'https://www.nytimes.com/by/thomas-l-friedman', 'https://theathletic.com/mlb/', 'https://cooking.nytimes.com/topics/desserts', 'https://www.nytimes.com/section/well', 'https://www.nytimes.com/crosswords/game/daily/', 'https://www.nytimes.com/section/t-magazine', 'https://www.nytimes.com/audio/app', 'https://www.nytimes.com/wirecutter/reviews/best-electric-toothbrush/', 'https://www.nytimes.com/ca/', 'https://www.nytimes.com/news-event/economy-business-us', 'https://www.nytimes.com/spotlight/artificial-intelligence', 'https://cooking.nytimes.com/68861692-nyt-cooking/950138-amazing-slow-cooker-recipes', 'https://www.nytimes.com/section/sports', 'https://www.nytimes.com/section/obituaries', 'https://help.nytimes.com/hc/en-us/articles/115015385887-Contact-Us', 'https://www.nytimes.com/puzzles/spelling-bee', 'https://www.nytimes.com/subscription?campaignId=37WXW', 'https://www.nytimes.com/spotlight/lifestyle', 'https://www.nytimes.com/spotlight/puzzle-making', 'https://www.nytimes.com/section/opinion', 'https://www.nytimes.com/wirecutter/', 'https://www.nytimes.com/2023/10/19/podcasts/serial-kids-rutherford-county.html', 'https://www.nytimes.com/section/well/mind', 'https://theathletic.com/newsletters/the-pulse', 'https://cooking.nytimes.com/topics/breakfast', 'https://www.nytimes.com/spotlight/connections-companion', 'https://www.nytimes.com/topic/organization/us-congress', 'https://www.nytimes.com/wirecutter/home-garden/', 'https://www.nytimes.com/2024/01/17/business/hybrid-cars-electric-vehicles.html', 'https://www.nytimes.com/2024/01/17/business/tesla-charging-chicago-cold-weather.html', 'https://www.tbrandstudio.com/', 'https://www.nytimes.com/section/business/economy', 'https://www.nytimes.com/puzzles/letter-boxed', 'https://www.nytimes.com/2024/01/16/arts/design/es-devlin-cooper-hewitt-review.html', 'https://www.nytimes.com/section/world/australia', 'https://www.nytimes.com/wirecutter/baby-kid/', 'https://www.nytimes.com/2024/01/17/us/trump-maine-primary-ballot.html', 'https://cooking.nytimes.com/topics/dinner-recipes', 'https://www.nytimes.com/es/', 'https://www.nytimes.com/news-event/israel-hamas-gaza', 'https://www.nytimes.com/newsletters/watching', 'https://www.nytimes.com/spotlight/pop-culture', 'https://www.nytimes.com/2022/09/19/crosswords/mini-to-maestro-part-1.html', 'https://theathletic.com/newsletters/full-time', 'https://www.nytimes.com/section/health', 'https://www.nytimes.com/newsletters/canada-letter', 'https://theathletic.com/womens-college-basketball/ ', 'https://www.nytimes.com/2024/01/17/nyregion/hakim-jeffrey-nycha-hakeem-jeffries-brooklyn.html', 'https://cooking.nytimes.com/topics/our-best-pasta-recipes', 'https://www.nytimes.com/2024/01/17/opinion/nikki-haley-primary-new-hampshire.html', 'https://www.nytimes.com/2024/01/17/opinion/taiwan-china-election-war.html', 'https://www.nytimes.com/column/modern-love', 'https://www.nytimes.com/newsletters/cooking', 'https://www.nytimes.com/section/arts/music', 'https://www.nytimes.com/spotlight/what-to-watch', 'https://www.nytimes.com/section/politics', 'https://cooking.nytimes.com/68861692-nyt-cooking/32998034-our-newest-recipes', 'https://www.nytimes.com/2024/01/17/health/us-drug-prices.html', 'https://cn.nytimes.com', 'https://nytmediakit.com/', 'https://www.nytimes.com/section/business/media', 'https://www.nytimes.com/books/best-sellers', 'https://www.nytimes.com/spotlight/opinion-video', 'https://www.nytimes.com/2024/01/16/style/new-york-snow-fashion.html', 'https://www.nytimes.com/puzzles/tiles', 'https://www.nytco.com/careers/', 'https://theathletic.com/nba/', 'https://www.nytimes.com/section/markets-overview', 'https://www.nytimes.com/column/the-headlines', 'https://www.nytimes.com/newsletters/love-letter', 'https://www.nytimes.com/subscription/all-access', 'https://www.nytimes.com/wirecutter/reviews/best-cordless-stick-vacuum/', 'https://www.nytimes.com/by/jamelle-bouie', 'https://www.nytimes.com/2024/01/17/world/europe/princess-kate-middleton-abdominal-surgery.html', 'https://theathletic.com/tag/a1-must-read-stories/', 'https://www.nytimes.com/crosswords/game/mini', 'https://www.nytimes.com/privacy/privacy-policy', 'https://www.nytimes.com/newsletters/dealbook', 'https://www.nytimes.com/news-event/awards-season', 'https://www.nytimes.com/spotlight/abortion-news', 'https://www.nytimes.com/column/playlist', 'https://www.nytimes.com/by/charles-m-blow', 'https://www.nytimes.com/wirecutter/gifts/', 'https://www.nytimes.com/interactive/2024/us/elections/republican-primary-calendar.html', 'https://www.nytimes.com/2024/01/17/opinion/trump-god-evangelicals-anointed.html', 'https://www.nytimes.com/2024/01/16/movies/june-review.html', 'https://www.nytimes.com/section/food', 'https://help.nytimes.com/hc/en-us', 'https://www.nytimes.com/spotlight/spelling-bee-forum', 'https://cooking.nytimes.com/topics/easy-recipes', 'https://theathletic.com/newsletters/the-windup', 'https://www.nytimes.com/2024/01/16/opinion/red-sea-houthis-shipping-inflation.html', 'https://www.nytimes.com/live/2024/01/17/us/election-news-new-hampshire-trump', 'https://www.nytimes.com/by/ezra-klein', 'https://cooking.nytimes.com/topics/easy-weeknight', 'https://www.nytimes.com/crosswords', 'https://www.nytimes.com/section/arts/television', 'https://www.nytimes.com/interactive/2023/10/27/arts/music/music-fivemins-collection.html', 'https://www.nytimes.com/column/ezra-klein-podcast', 'https://cooking.nytimes.com/', 'https://www.nytimes.com/column/op-docs', 'https://www.nytimes.com/puzzles/vertex', 'https://www.nytimes.com/2024/01/17/opinion/temperature-climate-change-heat.html', '#site-content', 'https://www.nytimes.com/2024/01/16/opinion/child-care-parenting-stress.html', 'https://www.nytimes.com/spotlight/podcasts', 'https://www.nytimes.com/2024/01/17/opinion/biden-israel-war-washington.html', 'https://www.nytimes.com/section/science', 'https://www.nytimes.com/wirecutter/kitchen-dining/', 'https://www.nytimes.com/section/business/energy-environment', 'https://theathletic.com/5029170/2023/11/06/free-agents-mlb-list/', 'https://www.nytimes.com/section/todayspaper', 'https://www.nytimes.com/spotlight/joe-biden', 'https://www.nytimes.com/newsletters/morning-briefing', 'https://cooking.nytimes.com/68861692-nyt-cooking/43843372-quick-recipes', 'https://www.nytimes.com/column/election-run-up-podcast', 'https://www.nytimes.com/2024/01/16/arts/music/amplifier-newsletter-upcoming-albums.html', 'https://www.nytimes.com/section/arts/dance', 'https://www.nytimes.com/section/world/asia', 'https://www.nytimes.com/news-event/donald-trump-investigations', 'https://www.nytimes.com/section/world/canada', 'https://www.nytimes.com/section/arts/design', 'https://www.nytimes.com/live/2024/01/17/world/israel-hamas-news', 'https://www.nytimes.com/newsletters/five-weeknight-dishes', 'https://cooking.nytimes.com/topics/vegetarian', '/international/', 'https://www.nytimes.com/section/fashion/weddings', 'https://www.nytimes.com/section/opinion/editorials', 'https://cooking.nytimes.com/68861692-nyt-cooking/2370458-one-pot-dinner-recipes', 'https://www.nytimes.com/interactive/2022/podcasts/serial-productions.html', 'https://www.nytimes.com/wirecutter/reviews/best-robot-vacuum/', 'https://www.nytimes.com/spotlight/best-of', 'https://www.nytimes.com/2024/01/15/arts/television/emmy-winners-list.html', 'https://www.nytimes.com/2024/01/17/opinion/unions-labor-standards-boards.html', 'https://www.nytimes.com/2024/01/17/us/politics/johnson-biden-border-ukraine.html', 'https://www.nytimes.com/section/well/family', 'https://theathletic.com/college-basketball/', 'https://www.nytimes.com/newsletters/the-veggie', 'https://www.nytimes.com/2024/01/17/opinion/economics-textbooks-monetary-policy.html', 'https://www.nytimes.com/article/submit-crossword-puzzles-the-new-york-times.html', 'https://www.nytimes.com/section/realestate', 'https://www.nytimes.com/spotlight/reporter-reads']\n"
          ]
        }
      ]
    },
    {
      "cell_type": "code",
      "source": [
        "pip install tldextract"
      ],
      "metadata": {
        "colab": {
          "base_uri": "https://localhost:8080/"
        },
        "id": "IHeYhDcnLwWV",
        "outputId": "4e363895-126b-43b2-d4ef-113e0dec0411"
      },
      "execution_count": 4,
      "outputs": [
        {
          "output_type": "stream",
          "name": "stdout",
          "text": [
            "Collecting tldextract\n",
            "  Downloading tldextract-5.1.1-py3-none-any.whl (97 kB)\n",
            "\u001b[?25l     \u001b[90m━━━━━━━━━━━━━━━━━━━━━━━━━━━━━━━━━━━━━━━━\u001b[0m \u001b[32m0.0/97.7 kB\u001b[0m \u001b[31m?\u001b[0m eta \u001b[36m-:--:--\u001b[0m\r\u001b[2K     \u001b[91m━━━━━━━━━━━━━━━━━━━━━━━━━━━━━\u001b[0m\u001b[90m╺\u001b[0m\u001b[90m━━━━━━━━━━\u001b[0m \u001b[32m71.7/97.7 kB\u001b[0m \u001b[31m2.0 MB/s\u001b[0m eta \u001b[36m0:00:01\u001b[0m\r\u001b[2K     \u001b[90m━━━━━━━━━━━━━━━━━━━━━━━━━━━━━━━━━━━━━━━━\u001b[0m \u001b[32m97.7/97.7 kB\u001b[0m \u001b[31m2.0 MB/s\u001b[0m eta \u001b[36m0:00:00\u001b[0m\n",
            "\u001b[?25hRequirement already satisfied: idna in /usr/local/lib/python3.10/dist-packages (from tldextract) (3.6)\n",
            "Requirement already satisfied: requests>=2.1.0 in /usr/local/lib/python3.10/dist-packages (from tldextract) (2.31.0)\n",
            "Collecting requests-file>=1.4 (from tldextract)\n",
            "  Downloading requests_file-1.5.1-py2.py3-none-any.whl (3.7 kB)\n",
            "Requirement already satisfied: filelock>=3.0.8 in /usr/local/lib/python3.10/dist-packages (from tldextract) (3.13.1)\n",
            "Requirement already satisfied: charset-normalizer<4,>=2 in /usr/local/lib/python3.10/dist-packages (from requests>=2.1.0->tldextract) (3.3.2)\n",
            "Requirement already satisfied: urllib3<3,>=1.21.1 in /usr/local/lib/python3.10/dist-packages (from requests>=2.1.0->tldextract) (2.0.7)\n",
            "Requirement already satisfied: certifi>=2017.4.17 in /usr/local/lib/python3.10/dist-packages (from requests>=2.1.0->tldextract) (2023.11.17)\n",
            "Requirement already satisfied: six in /usr/local/lib/python3.10/dist-packages (from requests-file>=1.4->tldextract) (1.16.0)\n",
            "Installing collected packages: requests-file, tldextract\n",
            "Successfully installed requests-file-1.5.1 tldextract-5.1.1\n"
          ]
        }
      ]
    },
    {
      "cell_type": "code",
      "source": [
        "import requests\n",
        "from bs4 import BeautifulSoup\n",
        "import urllib.parse\n",
        "\n",
        "url = input(\"Enter website URL: \")\n",
        "\n",
        "response = requests.get(url)\n",
        "\n",
        "soup = BeautifulSoup(response.text, 'html.parser')\n",
        "\n",
        "links = []\n",
        "for link in soup.find_all('a'):\n",
        "    href = link.get('href')\n",
        "    if href:\n",
        "        if \"http\" not in href:\n",
        "            # Build absolute URL for relative URLs\n",
        "            href = urllib.parse.urljoin(url, href)\n",
        "        links.append(href)\n",
        "\n",
        "print(links)"
      ],
      "metadata": {
        "colab": {
          "base_uri": "https://localhost:8080/"
        },
        "id": "J-x7KxARF7ZA",
        "outputId": "0fac1cd0-3c27-40dd-d9f2-4b6f8b4efc35"
      },
      "execution_count": 14,
      "outputs": [
        {
          "output_type": "stream",
          "name": "stdout",
          "text": [
            "Enter website URL: https://www.cnbc.com/video/2023/03/14/short-bank-of-america-is-one-of-the-best-run-banks-in-u-s-says-oakmarks-bill-nygren.html\n",
            "['https://www.cnbc.com/video/2023/03/14/short-bank-of-america-is-one-of-the-best-run-banks-in-u-s-says-oakmarks-bill-nygren.html#MainContent', 'https://www.cnbc.com/', 'https://www.cnbc.com/live-tv/', 'https://www.cnbc.com/', 'https://www.cnbc.com/markets/', 'https://www.cnbc.com/pre-markets/', 'https://www.cnbc.com/us-markets/', 'https://www.cnbc.com/currencies/', 'https://www.cnbc.com/cryptocurrency/', 'https://www.cnbc.com/futures-and-commodities/', 'https://www.cnbc.com/bonds/', 'https://www.cnbc.com/funds-and-etfs/', 'https://www.cnbc.com/business/', 'https://www.cnbc.com/economy/', 'https://www.cnbc.com/finance/', 'https://www.cnbc.com/health-and-science/', 'https://www.cnbc.com/media/', 'https://www.cnbc.com/real-estate/', 'https://www.cnbc.com/energy/', 'https://www.cnbc.com/climate/', 'https://www.cnbc.com/transportation/', 'https://www.cnbc.com/industrials/', 'https://www.cnbc.com/retail/', 'https://www.cnbc.com/wealth/', 'https://www.cnbc.com/sports/', 'https://www.cnbc.com/life/', 'https://www.cnbc.com/small-business/', 'https://www.cnbc.com/investing/', 'https://www.cnbc.com/personal-finance/', 'https://www.cnbc.com/fintech/', 'https://www.cnbc.com/financial-advisors/', 'https://www.cnbc.com/options-action/', 'https://www.cnbc.com/etf-street/', 'https://buffett.cnbc.com', 'https://www.cnbc.com/earnings/', 'https://www.cnbc.com/trader-talk/', 'https://www.cnbc.com/technology/', 'https://www.cnbc.com/cybersecurity/', 'https://www.cnbc.com/enterprise/', 'https://www.cnbc.com/internet/', 'https://www.cnbc.com/media/', 'https://www.cnbc.com/mobile/', 'https://www.cnbc.com/social-media/', 'https://www.cnbc.com/cnbc-disruptors/', 'https://www.cnbc.com/tech-guide/', 'https://www.cnbc.com/politics/', 'https://www.cnbc.com/white-house/', 'https://www.cnbc.com/policy/', 'https://www.cnbc.com/defense/', 'https://www.cnbc.com/congress/', 'https://www.cnbc.com/equity-opportunity/', 'https://www.cnbc.com/tv/', 'https://www.cnbc.com/live-tv', 'https://www.cnbc.com/live-audio/', 'https://www.cnbc.com/business-day/', 'https://www.cnbc.com/primetime-shows/', 'https://www.cnbc.com/live-tv/full-episodes/', 'https://www.cnbc.com/latest-video/', 'https://www.cnbc.com/top-video/', 'https://www.cnbc.com/video-ceo-interviews/', 'https://www.cnbc.com/documentaries/', 'https://www.cnbc.com/podcast/', 'https://www.cnbc.com/features/', 'https://www.cnbc.com/digital-original/', 'https://www.cnbc.com/live-tv/schedule/', 'https://www.cnbc.com/watchlist/', 'https://www.cnbc.com/investingclub/', 'https://www.cnbc.com/investingclub/charitable-trust/', 'https://www.cnbc.com/investingclub/analysis/', 'https://www.cnbc.com/investingclub/trade-alerts/', 'https://www.cnbc.com/investingclub/video/', 'https://www.cnbc.com/investingclub/homestretch/', 'https://www.cnbc.com/investingclub/jim-cramer-columns/', 'https://www.cnbc.com/investingclub/education/', 'https://www.cnbc.com/video/2023/03/14/short-bank-of-america-is-one-of-the-best-run-banks-in-u-s-says-oakmarks-bill-nygren.html', 'https://www.cnbc.com/video/2023/03/14/short-bank-of-america-is-one-of-the-best-run-banks-in-u-s-says-oakmarks-bill-nygren.html', 'https://www.cnbc.com/pro/', 'https://www.cnbc.com/pro/news/', 'https://www.cnbc.com/pro/', 'https://www.cnbc.com/pro/full-business-day-episodes/', 'https://www.cnbc.com/pro-stock-screener/', 'https://www.cnbc.com/2023/05/11/market-strategist-survey-forecast.html', 'https://www.cnbc.com/pro/options-investing/', 'https://www.cnbc.com/video/2023/03/14/short-bank-of-america-is-one-of-the-best-run-banks-in-u-s-says-oakmarks-bill-nygren.html', 'https://www.cnbc.com/video/2023/03/14/short-bank-of-america-is-one-of-the-best-run-banks-in-u-s-says-oakmarks-bill-nygren.html', 'https://www.cnbc.com/make-it/', 'https://www.cnbc.com/select/', 'https://www.cnbc.com/select/credit-cards/', 'https://www.cnbc.com/select/loans/', 'https://www.cnbc.com/select/banking/', 'https://www.cnbc.com/select/mortgages/', 'https://www.cnbc.com/select/insurance/', 'https://www.cnbc.com/select/credit-monitoring/', 'https://www.cnbc.com/select/personal-finance/', 'https://www.cnbc.com/select/small-business/', 'https://www.cnbc.com/select/taxes/', 'https://www.cnbc.com/select/low-credit-scores/', 'https://www.cnbc.com/select/investing/', 'https://www.cnbc.com/video/2023/03/14/short-bank-of-america-is-one-of-the-best-run-banks-in-u-s-says-oakmarks-bill-nygren.html', 'https://www.cnbc.com/select/credit-cards/', 'https://www.cnbc.com/select/credit-card-marketplace/', 'https://www.cnbc.com/select/best-credit-cards/', 'https://www.cnbc.com/select/best-rewards-credit-cards/', 'https://www.cnbc.com/select/best-travel-credit-cards/', 'https://www.cnbc.com/select/best-zero-interest-credit-cards/', 'https://www.cnbc.com/select/best-balance-transfer-credit-cards/', 'https://www.cnbc.com/select/best-cash-back-credit-cards/', 'https://www.cnbc.com/select/best-credit-card-sign-up-bonuses/', 'https://www.cnbc.com/select/the-best-credit-cards-for-building-credit/', 'https://www.cnbc.com/video/2023/03/14/short-bank-of-america-is-one-of-the-best-run-banks-in-u-s-says-oakmarks-bill-nygren.html', 'https://www.cnbc.com/select/loans/', 'https://www.cnbc.com/select/personal-loan-marketplace/', 'https://www.cnbc.com/select/best-personal-loans/', 'https://www.cnbc.com/select/best-debt-consolidation-loans/', 'https://www.cnbc.com/select/best-loans-for-refinancing-credit-card-debt/', 'https://www.cnbc.com/select/6-personal-loans-thatll-get-you-funded-in-as-little-as-1-business-day/', 'https://www.cnbc.com/select/best-small-personal-loans/', 'https://www.cnbc.com/select/personal-loan-lenders-borrow-50000/', 'https://www.cnbc.com/select/personal-loan-online-applications/', 'https://www.cnbc.com/select/best-student-loan-refinance-companies/', 'https://www.cnbc.com/video/2023/03/14/short-bank-of-america-is-one-of-the-best-run-banks-in-u-s-says-oakmarks-bill-nygren.html', 'https://www.cnbc.com/select/banking/', 'https://www.cnbc.com/select/savings-marketplace/', 'https://www.cnbc.com/select/best-high-yield-savings-accounts/', 'https://www.cnbc.com/select/best-brick-and-mortar-savings-accounts/', 'https://www.cnbc.com/select/best-brick-mortar-checking-accounts/', 'https://www.cnbc.com/select/best-no-fee-checking-accounts/', 'https://www.cnbc.com/select/checking-accounts-with-no-overdraft-fees/', 'https://www.cnbc.com/select/best-checking-account-bonuses/', 'https://www.cnbc.com/select/best-money-market-accounts/', 'https://www.cnbc.com/select/best-certificates-of-deposits/', 'https://www.cnbc.com/select/best-credit-unions/', 'https://www.cnbc.com/video/2023/03/14/short-bank-of-america-is-one-of-the-best-run-banks-in-u-s-says-oakmarks-bill-nygren.html', 'https://www.cnbc.com/select/mortgages/', 'https://www.cnbc.com/select/best-mortgage-lenders/', 'https://www.cnbc.com/select/mortgage-lenders-for-a-small-down-payment/', 'https://www.cnbc.com/select/best-mortgage-lenders-va-loans-usda-loans/', 'https://www.cnbc.com/select/best-mortgage-lenders-that-dont-charge-origination-fees/', 'https://www.cnbc.com/select/best-mortgage-lenders-average-credit-score/', 'https://www.cnbc.com/select/adjustable-rate-mortgage-pros-and-cons/', 'https://www.cnbc.com/select/mortgage-affordability/', 'https://www.cnbc.com/video/2023/03/14/short-bank-of-america-is-one-of-the-best-run-banks-in-u-s-says-oakmarks-bill-nygren.html', 'https://www.cnbc.com/select/insurance/', 'https://www.cnbc.com/select/best-life-insurance-companies/', 'https://www.cnbc.com/select/best-homeowners-insurance-companies/', 'https://www.cnbc.com/select/best-renters-insurance-companies/', 'https://www.cnbc.com/select/best-car-insurance-companies/', 'https://www.cnbc.com/select/travel-insurance-guide/', 'https://www.cnbc.com/video/2023/03/14/short-bank-of-america-is-one-of-the-best-run-banks-in-u-s-says-oakmarks-bill-nygren.html', 'https://www.cnbc.com/select/credit-monitoring/', 'https://www.cnbc.com/select/best-credit-monitoring-services/', 'https://www.cnbc.com/select/best-identity-theft-protection-services/', 'https://www.cnbc.com/select/how-experian-boost-works/', 'https://www.cnbc.com/select/how-do-credit-repair-services-work/', 'https://www.cnbc.com/video/2023/03/14/short-bank-of-america-is-one-of-the-best-run-banks-in-u-s-says-oakmarks-bill-nygren.html', 'https://www.cnbc.com/select/personal-finance/', 'https://www.cnbc.com/select/best-budgeting-apps/', 'https://www.cnbc.com/select/best-expense-tracker-apps/', 'https://www.cnbc.com/select/best-money-transfer-payment-apps/', 'https://www.cnbc.com/select/best-resale-apps-and-websites/', 'https://www.cnbc.com/select/best-buy-now-pay-later-apps/', 'https://www.cnbc.com/select/best-debt-relief-companies/', 'https://www.cnbc.com/video/2023/03/14/short-bank-of-america-is-one-of-the-best-run-banks-in-u-s-says-oakmarks-bill-nygren.html', 'https://www.cnbc.com/select/small-business/', 'https://www.cnbc.com/select/best-small-business-savings-accounts/', 'https://www.cnbc.com/select/best-business-checking-accounts/', 'https://www.cnbc.com/select/best-small-business-credit-cards/', 'https://www.cnbc.com/select/best-small-business-loans/', 'https://www.cnbc.com/select/best-tax-software-for-small-businesses/', 'https://www.cnbc.com/video/2023/03/14/short-bank-of-america-is-one-of-the-best-run-banks-in-u-s-says-oakmarks-bill-nygren.html', 'https://www.cnbc.com/select/taxes/', 'https://www.cnbc.com/select/best-tax-software/', 'https://www.cnbc.com/select/best-tax-software-for-small-businesses/', 'https://www.cnbc.com/select/how-to-check-the-status-of-your-2020-tax-refund/', 'https://www.cnbc.com/video/2023/03/14/short-bank-of-america-is-one-of-the-best-run-banks-in-u-s-says-oakmarks-bill-nygren.html', 'https://www.cnbc.com/select/low-credit-scores/', 'https://www.cnbc.com/select/best-credit-cards-for-bad-credit/', 'https://www.cnbc.com/select/best-personal-loans-for-bad-credit/', 'https://www.cnbc.com/select/best-debt-consolidation-loans-for-bad-credit/', 'https://www.cnbc.com/select/personal-loan-lenders-to-consider-if-you-dont-have-credit-score/', 'https://www.cnbc.com/select/the-best-credit-cards-for-building-credit/', 'https://www.cnbc.com/select/personal-loans-to-apply-credit-score-580-or-lower/', 'https://www.cnbc.com/select/personal-loan-lenders-credit-score-below-670/', 'https://www.cnbc.com/select/best-mortgage-lenders-bad-credit-score/', 'https://www.cnbc.com/select/best-hardship-loans/', 'https://www.cnbc.com/select/how-experian-boost-works/', 'https://www.cnbc.com/video/2023/03/14/short-bank-of-america-is-one-of-the-best-run-banks-in-u-s-says-oakmarks-bill-nygren.html', 'https://www.cnbc.com/select/investing/', 'https://www.cnbc.com/select/best-ira-accounts/', 'https://www.cnbc.com/select/best-roth-ira-accounts/', 'https://www.cnbc.com/select/best-investing-apps/', 'https://www.cnbc.com/select/best-brokerage-free-stock-trading/', 'https://www.cnbc.com/select/best-robo-advisors/', 'https://www.cnbc.com/select/what-are-index-funds/', 'https://www.cnbc.com/select/what-are-mutual-funds/', 'https://www.cnbc.com/select/what-are-etfs-should-you-invest/', 'https://www.cnbc.com/select/what-are-bonds/', 'https://www.cnbc.com/?region=usa', 'https://www.cnbc.com/world/', 'https://www.cnbc.com/live-tv/', 'https://www.cnbc.com/watchlist/', 'https://www.cnbc.com/video/2023/03/14/short-bank-of-america-is-one-of-the-best-run-banks-in-u-s-says-oakmarks-bill-nygren.html', 'https://www.cnbc.com/', 'https://www.cnbc.com/markets/', 'https://www.cnbc.com/business/', 'https://www.cnbc.com/investing/', 'https://www.cnbc.com/technology/', 'https://www.cnbc.com/politics/', 'https://www.cnbc.com/tv/', 'https://www.cnbc.com/watchlist/', 'https://www.cnbc.com/investingclub/', 'https://www.cnbc.com/pro/', 'https://www.cnbc.com/closing-bell/', 'https://www.cnbc.com/video/2024/01/17/apple-again-banned-from-selling-watches-in-u-s-with-blood-oxygen-sensor.html', 'https://www.cnbc.com/video/2024/01/17/apple-again-banned-from-selling-watches-in-u-s-with-blood-oxygen-sensor.html', 'https://www.cnbc.com/video/2024/01/17/it-makes-sense-to-be-bullish-right-now-says-ritholtzs-josh-brown.html', 'https://www.cnbc.com/video/2024/01/17/it-makes-sense-to-be-bullish-right-now-says-ritholtzs-josh-brown.html', 'https://www.cnbc.com/video/2024/01/17/nyc-cracking-down-on-secret-real-estate-buys.html', 'https://www.cnbc.com/video/2024/01/17/nyc-cracking-down-on-secret-real-estate-buys.html', 'https://www.cnbc.com/video/2024/01/17/samsung-unveils-ai-powered-phone.html', 'https://www.cnbc.com/video/2024/01/17/samsung-unveils-ai-powered-phone.html', 'https://www.cnbc.com/video/2024/01/17/fed-little-to-no-change-in-economic-activity-since-prior-beige-book.html', 'https://www.cnbc.com/video/2024/01/17/fed-little-to-no-change-in-economic-activity-since-prior-beige-book.html', 'https://www.cnbc.com/video/2024/01/17/apple-again-banned-from-selling-watches-in-u-s-with-blood-oxygen-sensor.html', 'https://www.cnbc.com/video/2024/01/17/apple-again-banned-from-selling-watches-in-u-s-with-blood-oxygen-sensor.html', 'https://www.cnbc.com/video/2024/01/17/it-makes-sense-to-be-bullish-right-now-says-ritholtzs-josh-brown.html', 'https://www.cnbc.com/video/2024/01/17/it-makes-sense-to-be-bullish-right-now-says-ritholtzs-josh-brown.html', 'https://www.cnbc.com/video/2024/01/17/nyc-cracking-down-on-secret-real-estate-buys.html', 'https://www.cnbc.com/video/2024/01/17/nyc-cracking-down-on-secret-real-estate-buys.html', 'https://www.cnbc.com/video/2024/01/17/samsung-unveils-ai-powered-phone.html', 'https://www.cnbc.com/video/2024/01/17/samsung-unveils-ai-powered-phone.html', 'https://www.cnbc.com/video/2024/01/17/fed-little-to-no-change-in-economic-activity-since-prior-beige-book.html', 'https://www.cnbc.com/video/2024/01/17/fed-little-to-no-change-in-economic-activity-since-prior-beige-book.html', 'https://www.cnbc.com', 'https://www.cnbc.com/application/pro/?__source=pro|globalfooter', 'https://www.cnbc.com/investingclub/subscribe?__source=investingclub|globalfooter', 'https://www.cnbc.com/cnbc-reprints/', 'https://www.cnbccouncils.com/', 'https://www.cnbc.com/select/', 'https://www.peacocktv.com/?cid=20200101evergreensymdisp009&utm_source=cnbc&utm_medium=symphony_editorial_brandawareness_footerlink&utm_campaign=20200101evergreen&utm_term=na&utm_content=na_na/', 'https://cnbcrsh.qualtrics.com/jfe/form/SV_dgRx5X1nYC0YjNI?Origin=cnbc', 'https://corporate.comcast.com/values/integrity', 'https://www.nbcnews.com/select', 'https://www.cnbc.com/closed-captioning/', 'https://www.cnbc.com/digital-products/', 'https://www.cnbc.com/cnbc-news-releases/', 'https://www.cnbc.com/cnbc-internship-program/', 'https://www.cnbc.com/corrections/', 'https://www.cnbc.com/about/', 'https://www.nbcuniversal.com/privacy/cookies#accordionheader2', 'https://www.cnbc.com/site-map/', 'https://www.cnbc.com/podcast/', 'https://www.cnbc.com/cnbc-careers-and-employment/', 'https://help.cnbc.com/', 'https://help.cnbc.com/contact/', 'https://www.facebook.com/cnbc/', 'https://www.twitter.com/cnbc/', 'https://www.linkedin.com/company/cnbc/', 'https://www.instagram.com/cnbc/', 'https://www.youtube.com/user/cnbc/', 'https://apple.news/T3OtoXcxtRkuHRkM7SpFP_Q', 'https://www.cnbc.com/rss-feeds/', 'https://www.cnbc.com/news-tips/', 'https://together.nbcuni.com/advertise/?utm_source=cnbc&utm_medium=referral&utm_campaign=property_ad_pages', 'https://www.cnbc.com/sign-up-for-cnbc-newsletters/', 'https://www.nbcuniversal.com/privacy?intake=CNBC', 'https://www.nbcuniversal.com/privacy/california-consumer-privacy-act?intake=CNBC', 'https://www.nbcuniversal.com/terms', 'https://www.nbcuniversal.com', 'https://www.cnbc.com/market-data-terms-of-service/', 'https://www.cnbc.com/market-data-terms-of-service/']\n"
          ]
        }
      ]
    },
    {
      "cell_type": "code",
      "source": [
        "import tldextract\n",
        "\n",
        "## source_url = \"https://soap2day.rs/home\"\n",
        "\n",
        "# Get domain of source\n",
        "ext = tldextract.extract(url)\n",
        "source_domain = ext.domain + '.' + ext.suffix\n",
        "\n",
        "# Filter links\n",
        "internal_links = []\n",
        "external_links = []\n",
        "\n",
        "for link in links:\n",
        "    ext = tldextract.extract(link)\n",
        "    domain = ext.domain + '.' + ext.suffix\n",
        "\n",
        "    if domain == source_domain:\n",
        "        internal_links.append(link)\n",
        "    else:\n",
        "        external_links.append(link)\n",
        "\n",
        "print(f\"{len(internal_links)} Internal Links: {internal_links[:5]}\")\n",
        "print(f\"{len(external_links)} External Links: {external_links[:5]}\")"
      ],
      "metadata": {
        "colab": {
          "base_uri": "https://localhost:8080/"
        },
        "id": "cE9ZLbugIj9v",
        "outputId": "3337d686-fb6d-41d9-a77e-5a2c02f92f97"
      },
      "execution_count": 15,
      "outputs": [
        {
          "output_type": "stream",
          "name": "stdout",
          "text": [
            "254 Internal Links: ['https://www.cnbc.com/video/2023/03/14/short-bank-of-america-is-one-of-the-best-run-banks-in-u-s-says-oakmarks-bill-nygren.html#MainContent', 'https://www.cnbc.com/', 'https://www.cnbc.com/live-tv/', 'https://www.cnbc.com/', 'https://www.cnbc.com/markets/']\n",
            "17 External Links: ['https://www.cnbccouncils.com/', 'https://www.peacocktv.com/?cid=20200101evergreensymdisp009&utm_source=cnbc&utm_medium=symphony_editorial_brandawareness_footerlink&utm_campaign=20200101evergreen&utm_term=na&utm_content=na_na/', 'https://cnbcrsh.qualtrics.com/jfe/form/SV_dgRx5X1nYC0YjNI?Origin=cnbc', 'https://corporate.comcast.com/values/integrity', 'https://www.nbcnews.com/select']\n"
          ]
        }
      ]
    },
    {
      "cell_type": "code",
      "source": [
        "import csv\n",
        "url_csv = url.replace(\"/\",\"\") + \".csv\"\n",
        "with open(url_csv, 'w', newline='', encoding='utf-8') as f:\n",
        "    writer = csv.writer(f)\n",
        "    writer.writerow(['external_links'])\n",
        "    writer.writerows([[external_links] for external_links in external_links])"
      ],
      "metadata": {
        "id": "ly_f1A53IZLH"
      },
      "execution_count": 16,
      "outputs": []
    },
    {
      "cell_type": "code",
      "source": [
        "import re\n",
        "image_srcs = []\n",
        "## soup = BeautifulSoup(response.content, \"html.parser\")\n",
        "images = soup.find_all(\"img\")\n",
        "images = []\n",
        "\n",
        "for image in soup.find_all(\"img\"):\n",
        "    src = image.get(\"src\")\n",
        "    images.append(src)\n",
        "\n",
        "print(\"Number of Images:\", len(images))\n",
        "print(\"List of Images link:\", images)"
      ],
      "metadata": {
        "id": "ZPxBJFGZPyfa",
        "colab": {
          "base_uri": "https://localhost:8080/"
        },
        "outputId": "05d16639-d678-4bee-f10a-8ffd4989bc2b"
      },
      "execution_count": 22,
      "outputs": [
        {
          "output_type": "stream",
          "name": "stdout",
          "text": [
            "Number of Images: 18\n",
            "List of Images link: ['https://static-redesign.cnbcfm.com/dist/7821ea3cb72f88388591.svg', 'https://static-redesign.cnbcfm.com/dist/2469ed0a9a4cafdf055e.svg', 'https://static-redesign.cnbcfm.com/dist/2469ed0a9a4cafdf055e.svg', 'https://image.cnbcfm.com/api/v1/image/107208621-16788240201678824017-28582117331-1080pnbcnews.jpg?v=1678824482&w=750&h=422&vtcrop=y', 'https://image.cnbcfm.com/api/v1/image/107360580-17055215101705521508-32935151701-1080pnbcnews.jpg?v=1705521509&w=600&h=300&vtcrop=y', 'https://image.cnbcfm.com/api/v1/image/107360594-17055226191705522616-32935345945-1080pnbcnews.jpg?v=1705522618&w=600&h=300&vtcrop=y', 'https://image.cnbcfm.com/api/v1/image/107360569-17055208301705520827-32935032774-1080pnbcnews.jpg?v=1705520829&w=600&h=300&vtcrop=y', 'https://image.cnbcfm.com/api/v1/image/107360560-17055204241705520422-32934962204-1080pnbcnews.jpg?v=1705520424&w=600&h=300&vtcrop=y', 'https://image.cnbcfm.com/api/v1/image/107360550-17055190721705519069-32934729025-1080pnbcnews.jpg?v=1705519071&w=600&h=300&vtcrop=y', 'https://image.cnbcfm.com/api/v1/image/107360580-17055215101705521508-32935151701-1080pnbcnews.jpg?v=1705521509&w=600&h=300&vtcrop=y', 'https://image.cnbcfm.com/api/v1/image/107360594-17055226191705522616-32935345945-1080pnbcnews.jpg?v=1705522618&w=600&h=300&vtcrop=y', 'https://image.cnbcfm.com/api/v1/image/107360569-17055208301705520827-32935032774-1080pnbcnews.jpg?v=1705520829&w=412&h=212&vtcrop=y', 'https://image.cnbcfm.com/api/v1/image/107360560-17055204241705520422-32934962204-1080pnbcnews.jpg?v=1705520424&w=412&h=212&vtcrop=y', 'https://image.cnbcfm.com/api/v1/image/107360550-17055190721705519069-32934729025-1080pnbcnews.jpg?v=1705519071&w=412&h=212&vtcrop=y', 'https://static-redesign.cnbcfm.com/dist/7821ea3cb72f88388591.svg', 'https://static-redesign.cnbcfm.com/dist/17269f1b6083fd5f61be.svg', 'https://static-redesign.cnbcfm.com/dist/09c161b9810767a7849e.svg', 'https://sb.scorecardresearch.com/p?c1=2&c2=1000004&cv=2.0&cj=1']\n"
          ]
        }
      ]
    },
    {
      "cell_type": "code",
      "source": [],
      "metadata": {
        "id": "5fJ8l8iIOLld"
      },
      "execution_count": null,
      "outputs": []
    }
  ]
}